{
 "cells": [
  {
   "cell_type": "markdown",
   "id": "4b8f74f5",
   "metadata": {},
   "source": [
    "### Create a GitHub Repository:\n",
    "\n",
    "https://chat.openai.com/share/59d390a6-9982-41cc-b3fa-f9a1b1f614e1"
   ]
  },
  {
   "cell_type": "code",
   "execution_count": 2,
   "id": "19730d92",
   "metadata": {},
   "outputs": [
    {
     "name": "stdout",
     "output_type": "stream",
     "text": [
      "2023-10-13 12:41:43.643043\n"
     ]
    }
   ],
   "source": [
    "# 2023-10-13 12:41:43.643043\n",
    "from datetime import datetime\n",
    "\n",
    "print(datetime.now())"
   ]
  },
  {
   "cell_type": "code",
   "execution_count": null,
   "id": "73923121",
   "metadata": {},
   "outputs": [],
   "source": []
  },
  {
   "cell_type": "markdown",
   "id": "55e7946d",
   "metadata": {},
   "source": [
    "### 1. Create a Git Repository Locally:\n",
    "\n",
    "*1. **Open Terminal (Linux/macOS) or Command Prompt (Windows).**\n",
    "\n",
    "*2. **Navigate to your project directory** using the cd command. For example, if your project is in a folder called \"my_project,\" use: cd path/to/my_project.\n",
    "\n",
    "*3. **Initialize a Git repository.** Run the following command to initialize Git in your project directory:"
   ]
  },
  {
   "cell_type": "code",
   "execution_count": null,
   "id": "d5895fa9",
   "metadata": {},
   "outputs": [],
   "source": [
    "git init\n"
   ]
  },
  {
   "cell_type": "markdown",
   "id": "fa15f4ec",
   "metadata": {},
   "source": [
    "### 2. Create a GitHub Repository:\n",
    "\n",
    "* 1. **Go to GitHub:**\n",
    "\n",
    "If you don't have a GitHub account, sign up at GitHub.\n",
    "If you are already logged in, click on the \"+\" sign in the top right corner and select \"New repository.\"\n",
    "\n",
    "* 2. **Fill out the repository details:**\n",
    "\n",
    "Give your repository a name, for example, \"my_project.\"\n",
    "You can add a description, choose public/private repository, and initialize it with a README file if you want.\n",
    "\n",
    "* 3. **Create the repository.**"
   ]
  },
  {
   "cell_type": "markdown",
   "id": "5c6a3a43",
   "metadata": {},
   "source": [
    "### 3. Connect Local Repository to GitHub Repository:\n",
    "* 1. **Associate your local repository with the GitHub repository:**"
   ]
  },
  {
   "cell_type": "code",
   "execution_count": null,
   "id": "99a8d20e",
   "metadata": {},
   "outputs": [],
   "source": [
    "git remote add origin https://github.com/your-username/my_project.git\n"
   ]
  },
  {
   "cell_type": "code",
   "execution_count": null,
   "id": "827a15c6",
   "metadata": {},
   "outputs": [],
   "source": [
    "Replace your-username with your GitHub username."
   ]
  },
  {
   "cell_type": "markdown",
   "id": "ff5307e3",
   "metadata": {},
   "source": [
    "* 2.**Add your files to the staging area:**"
   ]
  },
  {
   "cell_type": "code",
   "execution_count": null,
   "id": "0c18ff80",
   "metadata": {},
   "outputs": [],
   "source": [
    "git add .\n"
   ]
  },
  {
   "cell_type": "code",
   "execution_count": null,
   "id": "4a63af64",
   "metadata": {},
   "outputs": [],
   "source": [
    "This stages all the files for commit.\n"
   ]
  },
  {
   "cell_type": "markdown",
   "id": "121bf496",
   "metadata": {},
   "source": [
    "* 3. **Commit the changes:**"
   ]
  },
  {
   "cell_type": "code",
   "execution_count": null,
   "id": "78095582",
   "metadata": {},
   "outputs": [],
   "source": [
    "git commit -m \"Initial commit\"\n"
   ]
  },
  {
   "cell_type": "code",
   "execution_count": null,
   "id": "7e346023",
   "metadata": {},
   "outputs": [],
   "source": [
    "You can replace \"Initial commit\" with any message describing your commit."
   ]
  },
  {
   "cell_type": "markdown",
   "id": "1efe533a",
   "metadata": {},
   "source": [
    "* 3. **Push the changes to GitHub:**"
   ]
  },
  {
   "cell_type": "code",
   "execution_count": null,
   "id": "d6bb9ba7",
   "metadata": {},
   "outputs": [],
   "source": [
    "git push -u origin master\n"
   ]
  },
  {
   "cell_type": "markdown",
   "id": "74a2cb55",
   "metadata": {},
   "source": [
    "This pushes the committed changes to the master branch of your GitHub repository.\n",
    "\n",
    "Now your local project is linked to a GitHub repository. You can continue to make changes, stage, commit, and push those changes to GitHub using the respective Git commands."
   ]
  },
  {
   "cell_type": "code",
   "execution_count": null,
   "id": "300af408",
   "metadata": {},
   "outputs": [],
   "source": []
  },
  {
   "cell_type": "code",
   "execution_count": null,
   "id": "8c947d1c",
   "metadata": {},
   "outputs": [],
   "source": [
    "D:\\Korean_bible_project>dir\n",
    " Volume in drive D is DATA\n",
    " Volume Serial Number is 0614-A9B6\n",
    "\n",
    " Directory of D:\\Korean_bible_project\n",
    "\n",
    "10/13/2023  09:14 AM    <DIR>          .\n",
    "10/13/2023  09:14 AM    <DIR>          ..\n",
    "10/12/2023  05:31 PM    <DIR>          .ipynb_checkpoints\n",
    "10/13/2023  12:36 PM    <DIR>          bibles\n",
    "10/13/2023  09:44 AM    <DIR>          data\n",
    "10/13/2023  09:21 AM             7,193 korean_bible.py\n",
    "10/13/2023  12:48 PM    <DIR>          notebook\n",
    "10/12/2023  05:15 PM    <DIR>          venv\n",
    "               1 File(s)          7,193 bytes\n",
    "               7 Dir(s)  54,586,261,504 bytes free\n",
    "\n",
    "D:\\Korean_bible_project>git init\n",
    "Initialized empty Git repository in D:/Korean_bible_project/.git/\n",
    "\n",
    "D:\\Korean_bible_project>"
   ]
  },
  {
   "cell_type": "code",
   "execution_count": null,
   "id": "c53c94d0",
   "metadata": {},
   "outputs": [],
   "source": []
  },
  {
   "cell_type": "code",
   "execution_count": null,
   "id": "cba583e0",
   "metadata": {},
   "outputs": [],
   "source": []
  },
  {
   "cell_type": "code",
   "execution_count": null,
   "id": "3192338e",
   "metadata": {},
   "outputs": [],
   "source": []
  },
  {
   "cell_type": "code",
   "execution_count": null,
   "id": "7bd33ef8",
   "metadata": {},
   "outputs": [],
   "source": []
  },
  {
   "cell_type": "code",
   "execution_count": null,
   "id": "4aac0fc3",
   "metadata": {},
   "outputs": [],
   "source": []
  }
 ],
 "metadata": {
  "kernelspec": {
   "display_name": "Python 3 (ipykernel)",
   "language": "python",
   "name": "python3"
  },
  "language_info": {
   "codemirror_mode": {
    "name": "ipython",
    "version": 3
   },
   "file_extension": ".py",
   "mimetype": "text/x-python",
   "name": "python",
   "nbconvert_exporter": "python",
   "pygments_lexer": "ipython3",
   "version": "3.11.4"
  }
 },
 "nbformat": 4,
 "nbformat_minor": 5
}
